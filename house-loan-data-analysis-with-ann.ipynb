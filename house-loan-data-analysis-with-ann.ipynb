{
 "cells": [
  {
   "cell_type": "code",
   "execution_count": 1,
   "id": "b9bde35e",
   "metadata": {
    "_cell_guid": "b1076dfc-b9ad-4769-8c92-a6c4dae69d19",
    "_uuid": "8f2839f25d086af736a60e9eeb907d3b93b6e0e5",
    "execution": {
     "iopub.execute_input": "2022-06-07T06:58:01.196180Z",
     "iopub.status.busy": "2022-06-07T06:58:01.194019Z",
     "iopub.status.idle": "2022-06-07T06:58:01.237073Z",
     "shell.execute_reply": "2022-06-07T06:58:01.236289Z"
    },
    "papermill": {
     "duration": 0.06159,
     "end_time": "2022-06-07T06:58:01.239299",
     "exception": false,
     "start_time": "2022-06-07T06:58:01.177709",
     "status": "completed"
    },
    "tags": []
   },
   "outputs": [
    {
     "name": "stdout",
     "output_type": "stream",
     "text": [
      "/kaggle/input/california-house-loan-data/loan_data (1).csv\n"
     ]
    }
   ],
   "source": [
    "# This Python 3 environment comes with many helpful analytics libraries installed\n",
    "# It is defined by the kaggle/python Docker image: https://github.com/kaggle/docker-python\n",
    "# For example, here's several helpful packages to load\n",
    "\n",
    "import numpy as np # linear algebra\n",
    "import pandas as pd # data processing, CSV file I/O (e.g. pd.read_csv)\n",
    "\n",
    "# Input data files are available in the read-only \"../input/\" directory\n",
    "# For example, running this (by clicking run or pressing Shift+Enter) will list all files under the input directory\n",
    "\n",
    "import os\n",
    "for dirname, _, filenames in os.walk('/kaggle/input'):\n",
    "    for filename in filenames:\n",
    "        print(os.path.join(dirname, filename))\n",
    "\n",
    "# You can write up to 20GB to the current directory (/kaggle/working/) that gets preserved as output when you create a version using \"Save & Run All\" \n",
    "# You can also write temporary files to /kaggle/temp/, but they won't be saved outside of the current session"
   ]
  },
  {
   "cell_type": "markdown",
   "id": "b92869a6",
   "metadata": {
    "papermill": {
     "duration": 0.00761,
     "end_time": "2022-06-07T06:58:01.255637",
     "exception": false,
     "start_time": "2022-06-07T06:58:01.248027",
     "status": "completed"
    },
    "tags": []
   },
   "source": [
    "# Load the dataset from the directory"
   ]
  },
  {
   "cell_type": "code",
   "execution_count": 2,
   "id": "e32d83a1",
   "metadata": {
    "execution": {
     "iopub.execute_input": "2022-06-07T06:58:01.272970Z",
     "iopub.status.busy": "2022-06-07T06:58:01.272297Z",
     "iopub.status.idle": "2022-06-07T06:58:06.841755Z",
     "shell.execute_reply": "2022-06-07T06:58:06.840955Z"
    },
    "papermill": {
     "duration": 5.580159,
     "end_time": "2022-06-07T06:58:06.843995",
     "exception": false,
     "start_time": "2022-06-07T06:58:01.263836",
     "status": "completed"
    },
    "tags": []
   },
   "outputs": [],
   "source": [
    "data = pd.read_csv('../input/california-house-loan-data/loan_data (1).csv')"
   ]
  },
  {
   "cell_type": "code",
   "execution_count": 3,
   "id": "5cc460f9",
   "metadata": {
    "execution": {
     "iopub.execute_input": "2022-06-07T06:58:06.861478Z",
     "iopub.status.busy": "2022-06-07T06:58:06.861185Z",
     "iopub.status.idle": "2022-06-07T06:58:06.893336Z",
     "shell.execute_reply": "2022-06-07T06:58:06.892492Z"
    },
    "papermill": {
     "duration": 0.043347,
     "end_time": "2022-06-07T06:58:06.895618",
     "exception": false,
     "start_time": "2022-06-07T06:58:06.852271",
     "status": "completed"
    },
    "tags": []
   },
   "outputs": [
    {
     "data": {
      "text/html": [
       "<div>\n",
       "<style scoped>\n",
       "    .dataframe tbody tr th:only-of-type {\n",
       "        vertical-align: middle;\n",
       "    }\n",
       "\n",
       "    .dataframe tbody tr th {\n",
       "        vertical-align: top;\n",
       "    }\n",
       "\n",
       "    .dataframe thead th {\n",
       "        text-align: right;\n",
       "    }\n",
       "</style>\n",
       "<table border=\"1\" class=\"dataframe\">\n",
       "  <thead>\n",
       "    <tr style=\"text-align: right;\">\n",
       "      <th></th>\n",
       "      <th>SK_ID_CURR</th>\n",
       "      <th>TARGET</th>\n",
       "      <th>NAME_CONTRACT_TYPE</th>\n",
       "      <th>CODE_GENDER</th>\n",
       "      <th>FLAG_OWN_CAR</th>\n",
       "      <th>FLAG_OWN_REALTY</th>\n",
       "      <th>CNT_CHILDREN</th>\n",
       "      <th>AMT_INCOME_TOTAL</th>\n",
       "      <th>AMT_CREDIT</th>\n",
       "      <th>AMT_ANNUITY</th>\n",
       "      <th>...</th>\n",
       "      <th>FLAG_DOCUMENT_18</th>\n",
       "      <th>FLAG_DOCUMENT_19</th>\n",
       "      <th>FLAG_DOCUMENT_20</th>\n",
       "      <th>FLAG_DOCUMENT_21</th>\n",
       "      <th>AMT_REQ_CREDIT_BUREAU_HOUR</th>\n",
       "      <th>AMT_REQ_CREDIT_BUREAU_DAY</th>\n",
       "      <th>AMT_REQ_CREDIT_BUREAU_WEEK</th>\n",
       "      <th>AMT_REQ_CREDIT_BUREAU_MON</th>\n",
       "      <th>AMT_REQ_CREDIT_BUREAU_QRT</th>\n",
       "      <th>AMT_REQ_CREDIT_BUREAU_YEAR</th>\n",
       "    </tr>\n",
       "  </thead>\n",
       "  <tbody>\n",
       "    <tr>\n",
       "      <th>0</th>\n",
       "      <td>100002</td>\n",
       "      <td>1</td>\n",
       "      <td>Cash loans</td>\n",
       "      <td>M</td>\n",
       "      <td>N</td>\n",
       "      <td>Y</td>\n",
       "      <td>0</td>\n",
       "      <td>202500.0</td>\n",
       "      <td>406597.5</td>\n",
       "      <td>24700.5</td>\n",
       "      <td>...</td>\n",
       "      <td>0</td>\n",
       "      <td>0</td>\n",
       "      <td>0</td>\n",
       "      <td>0</td>\n",
       "      <td>0.0</td>\n",
       "      <td>0.0</td>\n",
       "      <td>0.0</td>\n",
       "      <td>0.0</td>\n",
       "      <td>0.0</td>\n",
       "      <td>1.0</td>\n",
       "    </tr>\n",
       "    <tr>\n",
       "      <th>1</th>\n",
       "      <td>100003</td>\n",
       "      <td>0</td>\n",
       "      <td>Cash loans</td>\n",
       "      <td>F</td>\n",
       "      <td>N</td>\n",
       "      <td>N</td>\n",
       "      <td>0</td>\n",
       "      <td>270000.0</td>\n",
       "      <td>1293502.5</td>\n",
       "      <td>35698.5</td>\n",
       "      <td>...</td>\n",
       "      <td>0</td>\n",
       "      <td>0</td>\n",
       "      <td>0</td>\n",
       "      <td>0</td>\n",
       "      <td>0.0</td>\n",
       "      <td>0.0</td>\n",
       "      <td>0.0</td>\n",
       "      <td>0.0</td>\n",
       "      <td>0.0</td>\n",
       "      <td>0.0</td>\n",
       "    </tr>\n",
       "    <tr>\n",
       "      <th>2</th>\n",
       "      <td>100004</td>\n",
       "      <td>0</td>\n",
       "      <td>Revolving loans</td>\n",
       "      <td>M</td>\n",
       "      <td>Y</td>\n",
       "      <td>Y</td>\n",
       "      <td>0</td>\n",
       "      <td>67500.0</td>\n",
       "      <td>135000.0</td>\n",
       "      <td>6750.0</td>\n",
       "      <td>...</td>\n",
       "      <td>0</td>\n",
       "      <td>0</td>\n",
       "      <td>0</td>\n",
       "      <td>0</td>\n",
       "      <td>0.0</td>\n",
       "      <td>0.0</td>\n",
       "      <td>0.0</td>\n",
       "      <td>0.0</td>\n",
       "      <td>0.0</td>\n",
       "      <td>0.0</td>\n",
       "    </tr>\n",
       "    <tr>\n",
       "      <th>3</th>\n",
       "      <td>100006</td>\n",
       "      <td>0</td>\n",
       "      <td>Cash loans</td>\n",
       "      <td>F</td>\n",
       "      <td>N</td>\n",
       "      <td>Y</td>\n",
       "      <td>0</td>\n",
       "      <td>135000.0</td>\n",
       "      <td>312682.5</td>\n",
       "      <td>29686.5</td>\n",
       "      <td>...</td>\n",
       "      <td>0</td>\n",
       "      <td>0</td>\n",
       "      <td>0</td>\n",
       "      <td>0</td>\n",
       "      <td>NaN</td>\n",
       "      <td>NaN</td>\n",
       "      <td>NaN</td>\n",
       "      <td>NaN</td>\n",
       "      <td>NaN</td>\n",
       "      <td>NaN</td>\n",
       "    </tr>\n",
       "    <tr>\n",
       "      <th>4</th>\n",
       "      <td>100007</td>\n",
       "      <td>0</td>\n",
       "      <td>Cash loans</td>\n",
       "      <td>M</td>\n",
       "      <td>N</td>\n",
       "      <td>Y</td>\n",
       "      <td>0</td>\n",
       "      <td>121500.0</td>\n",
       "      <td>513000.0</td>\n",
       "      <td>21865.5</td>\n",
       "      <td>...</td>\n",
       "      <td>0</td>\n",
       "      <td>0</td>\n",
       "      <td>0</td>\n",
       "      <td>0</td>\n",
       "      <td>0.0</td>\n",
       "      <td>0.0</td>\n",
       "      <td>0.0</td>\n",
       "      <td>0.0</td>\n",
       "      <td>0.0</td>\n",
       "      <td>0.0</td>\n",
       "    </tr>\n",
       "  </tbody>\n",
       "</table>\n",
       "<p>5 rows × 122 columns</p>\n",
       "</div>"
      ],
      "text/plain": [
       "   SK_ID_CURR  TARGET NAME_CONTRACT_TYPE CODE_GENDER FLAG_OWN_CAR  \\\n",
       "0      100002       1         Cash loans           M            N   \n",
       "1      100003       0         Cash loans           F            N   \n",
       "2      100004       0    Revolving loans           M            Y   \n",
       "3      100006       0         Cash loans           F            N   \n",
       "4      100007       0         Cash loans           M            N   \n",
       "\n",
       "  FLAG_OWN_REALTY  CNT_CHILDREN  AMT_INCOME_TOTAL  AMT_CREDIT  AMT_ANNUITY  \\\n",
       "0               Y             0          202500.0    406597.5      24700.5   \n",
       "1               N             0          270000.0   1293502.5      35698.5   \n",
       "2               Y             0           67500.0    135000.0       6750.0   \n",
       "3               Y             0          135000.0    312682.5      29686.5   \n",
       "4               Y             0          121500.0    513000.0      21865.5   \n",
       "\n",
       "   ...  FLAG_DOCUMENT_18 FLAG_DOCUMENT_19 FLAG_DOCUMENT_20 FLAG_DOCUMENT_21  \\\n",
       "0  ...                 0                0                0                0   \n",
       "1  ...                 0                0                0                0   \n",
       "2  ...                 0                0                0                0   \n",
       "3  ...                 0                0                0                0   \n",
       "4  ...                 0                0                0                0   \n",
       "\n",
       "  AMT_REQ_CREDIT_BUREAU_HOUR AMT_REQ_CREDIT_BUREAU_DAY  \\\n",
       "0                        0.0                       0.0   \n",
       "1                        0.0                       0.0   \n",
       "2                        0.0                       0.0   \n",
       "3                        NaN                       NaN   \n",
       "4                        0.0                       0.0   \n",
       "\n",
       "   AMT_REQ_CREDIT_BUREAU_WEEK  AMT_REQ_CREDIT_BUREAU_MON  \\\n",
       "0                         0.0                        0.0   \n",
       "1                         0.0                        0.0   \n",
       "2                         0.0                        0.0   \n",
       "3                         NaN                        NaN   \n",
       "4                         0.0                        0.0   \n",
       "\n",
       "   AMT_REQ_CREDIT_BUREAU_QRT  AMT_REQ_CREDIT_BUREAU_YEAR  \n",
       "0                        0.0                         1.0  \n",
       "1                        0.0                         0.0  \n",
       "2                        0.0                         0.0  \n",
       "3                        NaN                         NaN  \n",
       "4                        0.0                         0.0  \n",
       "\n",
       "[5 rows x 122 columns]"
      ]
     },
     "execution_count": 3,
     "metadata": {},
     "output_type": "execute_result"
    }
   ],
   "source": [
    "#Peek the data\n",
    "\n",
    "data.head()"
   ]
  },
  {
   "cell_type": "code",
   "execution_count": 4,
   "id": "3e01b9f9",
   "metadata": {
    "execution": {
     "iopub.execute_input": "2022-06-07T06:58:06.914262Z",
     "iopub.status.busy": "2022-06-07T06:58:06.913964Z",
     "iopub.status.idle": "2022-06-07T06:58:07.010128Z",
     "shell.execute_reply": "2022-06-07T06:58:07.009314Z"
    },
    "papermill": {
     "duration": 0.107708,
     "end_time": "2022-06-07T06:58:07.012220",
     "exception": false,
     "start_time": "2022-06-07T06:58:06.904512",
     "status": "completed"
    },
    "tags": []
   },
   "outputs": [],
   "source": [
    "# Assign the X and y values from the data\n",
    "\n",
    "X = data.drop('TARGET', axis=1)\n",
    "y = data.TARGET"
   ]
  },
  {
   "cell_type": "code",
   "execution_count": 5,
   "id": "96a52e8d",
   "metadata": {
    "execution": {
     "iopub.execute_input": "2022-06-07T06:58:07.029693Z",
     "iopub.status.busy": "2022-06-07T06:58:07.029399Z",
     "iopub.status.idle": "2022-06-07T06:58:07.034512Z",
     "shell.execute_reply": "2022-06-07T06:58:07.033821Z"
    },
    "papermill": {
     "duration": 0.015789,
     "end_time": "2022-06-07T06:58:07.036318",
     "exception": false,
     "start_time": "2022-06-07T06:58:07.020529",
     "status": "completed"
    },
    "tags": []
   },
   "outputs": [
    {
     "data": {
      "text/plain": [
       "((307511, 121), (307511,))"
      ]
     },
     "execution_count": 5,
     "metadata": {},
     "output_type": "execute_result"
    }
   ],
   "source": [
    "X.shape, y.shape"
   ]
  },
  {
   "cell_type": "code",
   "execution_count": 6,
   "id": "2d7cc9c1",
   "metadata": {
    "execution": {
     "iopub.execute_input": "2022-06-07T06:58:07.053461Z",
     "iopub.status.busy": "2022-06-07T06:58:07.053203Z",
     "iopub.status.idle": "2022-06-07T06:58:07.073863Z",
     "shell.execute_reply": "2022-06-07T06:58:07.073044Z"
    },
    "papermill": {
     "duration": 0.031013,
     "end_time": "2022-06-07T06:58:07.075527",
     "exception": false,
     "start_time": "2022-06-07T06:58:07.044514",
     "status": "completed"
    },
    "tags": []
   },
   "outputs": [
    {
     "data": {
      "text/html": [
       "<div>\n",
       "<style scoped>\n",
       "    .dataframe tbody tr th:only-of-type {\n",
       "        vertical-align: middle;\n",
       "    }\n",
       "\n",
       "    .dataframe tbody tr th {\n",
       "        vertical-align: top;\n",
       "    }\n",
       "\n",
       "    .dataframe thead th {\n",
       "        text-align: right;\n",
       "    }\n",
       "</style>\n",
       "<table border=\"1\" class=\"dataframe\">\n",
       "  <thead>\n",
       "    <tr style=\"text-align: right;\">\n",
       "      <th></th>\n",
       "      <th>SK_ID_CURR</th>\n",
       "      <th>NAME_CONTRACT_TYPE</th>\n",
       "      <th>CODE_GENDER</th>\n",
       "      <th>FLAG_OWN_CAR</th>\n",
       "      <th>FLAG_OWN_REALTY</th>\n",
       "      <th>CNT_CHILDREN</th>\n",
       "      <th>AMT_INCOME_TOTAL</th>\n",
       "      <th>AMT_CREDIT</th>\n",
       "      <th>AMT_ANNUITY</th>\n",
       "      <th>AMT_GOODS_PRICE</th>\n",
       "      <th>...</th>\n",
       "      <th>FLAG_DOCUMENT_18</th>\n",
       "      <th>FLAG_DOCUMENT_19</th>\n",
       "      <th>FLAG_DOCUMENT_20</th>\n",
       "      <th>FLAG_DOCUMENT_21</th>\n",
       "      <th>AMT_REQ_CREDIT_BUREAU_HOUR</th>\n",
       "      <th>AMT_REQ_CREDIT_BUREAU_DAY</th>\n",
       "      <th>AMT_REQ_CREDIT_BUREAU_WEEK</th>\n",
       "      <th>AMT_REQ_CREDIT_BUREAU_MON</th>\n",
       "      <th>AMT_REQ_CREDIT_BUREAU_QRT</th>\n",
       "      <th>AMT_REQ_CREDIT_BUREAU_YEAR</th>\n",
       "    </tr>\n",
       "  </thead>\n",
       "  <tbody>\n",
       "    <tr>\n",
       "      <th>0</th>\n",
       "      <td>100002</td>\n",
       "      <td>Cash loans</td>\n",
       "      <td>M</td>\n",
       "      <td>N</td>\n",
       "      <td>Y</td>\n",
       "      <td>0</td>\n",
       "      <td>202500.0</td>\n",
       "      <td>406597.5</td>\n",
       "      <td>24700.5</td>\n",
       "      <td>351000.0</td>\n",
       "      <td>...</td>\n",
       "      <td>0</td>\n",
       "      <td>0</td>\n",
       "      <td>0</td>\n",
       "      <td>0</td>\n",
       "      <td>0.0</td>\n",
       "      <td>0.0</td>\n",
       "      <td>0.0</td>\n",
       "      <td>0.0</td>\n",
       "      <td>0.0</td>\n",
       "      <td>1.0</td>\n",
       "    </tr>\n",
       "    <tr>\n",
       "      <th>1</th>\n",
       "      <td>100003</td>\n",
       "      <td>Cash loans</td>\n",
       "      <td>F</td>\n",
       "      <td>N</td>\n",
       "      <td>N</td>\n",
       "      <td>0</td>\n",
       "      <td>270000.0</td>\n",
       "      <td>1293502.5</td>\n",
       "      <td>35698.5</td>\n",
       "      <td>1129500.0</td>\n",
       "      <td>...</td>\n",
       "      <td>0</td>\n",
       "      <td>0</td>\n",
       "      <td>0</td>\n",
       "      <td>0</td>\n",
       "      <td>0.0</td>\n",
       "      <td>0.0</td>\n",
       "      <td>0.0</td>\n",
       "      <td>0.0</td>\n",
       "      <td>0.0</td>\n",
       "      <td>0.0</td>\n",
       "    </tr>\n",
       "  </tbody>\n",
       "</table>\n",
       "<p>2 rows × 121 columns</p>\n",
       "</div>"
      ],
      "text/plain": [
       "   SK_ID_CURR NAME_CONTRACT_TYPE CODE_GENDER FLAG_OWN_CAR FLAG_OWN_REALTY  \\\n",
       "0      100002         Cash loans           M            N               Y   \n",
       "1      100003         Cash loans           F            N               N   \n",
       "\n",
       "   CNT_CHILDREN  AMT_INCOME_TOTAL  AMT_CREDIT  AMT_ANNUITY  AMT_GOODS_PRICE  \\\n",
       "0             0          202500.0    406597.5      24700.5         351000.0   \n",
       "1             0          270000.0   1293502.5      35698.5        1129500.0   \n",
       "\n",
       "   ... FLAG_DOCUMENT_18 FLAG_DOCUMENT_19 FLAG_DOCUMENT_20 FLAG_DOCUMENT_21  \\\n",
       "0  ...                0                0                0                0   \n",
       "1  ...                0                0                0                0   \n",
       "\n",
       "  AMT_REQ_CREDIT_BUREAU_HOUR  AMT_REQ_CREDIT_BUREAU_DAY  \\\n",
       "0                        0.0                        0.0   \n",
       "1                        0.0                        0.0   \n",
       "\n",
       "   AMT_REQ_CREDIT_BUREAU_WEEK  AMT_REQ_CREDIT_BUREAU_MON  \\\n",
       "0                         0.0                        0.0   \n",
       "1                         0.0                        0.0   \n",
       "\n",
       "   AMT_REQ_CREDIT_BUREAU_QRT  AMT_REQ_CREDIT_BUREAU_YEAR  \n",
       "0                        0.0                         1.0  \n",
       "1                        0.0                         0.0  \n",
       "\n",
       "[2 rows x 121 columns]"
      ]
     },
     "execution_count": 6,
     "metadata": {},
     "output_type": "execute_result"
    }
   ],
   "source": [
    "X.head(2)"
   ]
  },
  {
   "cell_type": "code",
   "execution_count": 7,
   "id": "d10e5fae",
   "metadata": {
    "execution": {
     "iopub.execute_input": "2022-06-07T06:58:07.093056Z",
     "iopub.status.busy": "2022-06-07T06:58:07.092810Z",
     "iopub.status.idle": "2022-06-07T06:58:07.098164Z",
     "shell.execute_reply": "2022-06-07T06:58:07.097473Z"
    },
    "papermill": {
     "duration": 0.015834,
     "end_time": "2022-06-07T06:58:07.099735",
     "exception": false,
     "start_time": "2022-06-07T06:58:07.083901",
     "status": "completed"
    },
    "tags": []
   },
   "outputs": [
    {
     "data": {
      "text/plain": [
       "0    1\n",
       "1    0\n",
       "Name: TARGET, dtype: int64"
      ]
     },
     "execution_count": 7,
     "metadata": {},
     "output_type": "execute_result"
    }
   ],
   "source": [
    "y.head(2)"
   ]
  },
  {
   "cell_type": "code",
   "execution_count": 8,
   "id": "98fb1f1e",
   "metadata": {
    "execution": {
     "iopub.execute_input": "2022-06-07T06:58:07.118626Z",
     "iopub.status.busy": "2022-06-07T06:58:07.118042Z",
     "iopub.status.idle": "2022-06-07T06:58:07.127449Z",
     "shell.execute_reply": "2022-06-07T06:58:07.126696Z"
    },
    "papermill": {
     "duration": 0.020811,
     "end_time": "2022-06-07T06:58:07.129093",
     "exception": false,
     "start_time": "2022-06-07T06:58:07.108282",
     "status": "completed"
    },
    "tags": []
   },
   "outputs": [
    {
     "data": {
      "text/plain": [
       "0    282686\n",
       "1     24825\n",
       "Name: TARGET, dtype: int64"
      ]
     },
     "execution_count": 8,
     "metadata": {},
     "output_type": "execute_result"
    }
   ],
   "source": [
    "target_counts = y.value_counts()\n",
    "target_counts"
   ]
  },
  {
   "cell_type": "code",
   "execution_count": 9,
   "id": "2e343f28",
   "metadata": {
    "execution": {
     "iopub.execute_input": "2022-06-07T06:58:07.146993Z",
     "iopub.status.busy": "2022-06-07T06:58:07.146750Z",
     "iopub.status.idle": "2022-06-07T06:58:07.151066Z",
     "shell.execute_reply": "2022-06-07T06:58:07.150362Z"
    },
    "papermill": {
     "duration": 0.015907,
     "end_time": "2022-06-07T06:58:07.153398",
     "exception": false,
     "start_time": "2022-06-07T06:58:07.137491",
     "status": "completed"
    },
    "tags": []
   },
   "outputs": [
    {
     "name": "stdout",
     "output_type": "stream",
     "text": [
      "The default percentage of loan is 8.1%\n"
     ]
    }
   ],
   "source": [
    "# Percentage of default to the payer\n",
    "\n",
    "default_percentage = target_counts[1]/target_counts.sum()\n",
    "\n",
    "print(f'The default percentage of loan is {default_percentage.round(3)*100}%')\n"
   ]
  },
  {
   "cell_type": "markdown",
   "id": "c9f11973",
   "metadata": {
    "papermill": {
     "duration": 0.008314,
     "end_time": "2022-06-07T06:58:07.170762",
     "exception": false,
     "start_time": "2022-06-07T06:58:07.162448",
     "status": "completed"
    },
    "tags": []
   },
   "source": [
    "# Preprocess the data"
   ]
  },
  {
   "cell_type": "code",
   "execution_count": 10,
   "id": "6aa74f3d",
   "metadata": {
    "execution": {
     "iopub.execute_input": "2022-06-07T06:58:07.189212Z",
     "iopub.status.busy": "2022-06-07T06:58:07.188619Z",
     "iopub.status.idle": "2022-06-07T06:58:07.641806Z",
     "shell.execute_reply": "2022-06-07T06:58:07.640854Z"
    },
    "papermill": {
     "duration": 0.464891,
     "end_time": "2022-06-07T06:58:07.644238",
     "exception": false,
     "start_time": "2022-06-07T06:58:07.179347",
     "status": "completed"
    },
    "tags": []
   },
   "outputs": [
    {
     "name": "stdout",
     "output_type": "stream",
     "text": [
      "[0, 0, 0, 0, 0, 0, 0, 0, 12, 278, 1292, 0, 0, 0, 0, 0, 0, 0, 0, 0, 202929, 0, 0, 0, 0, 0, 0, 96391, 2, 0, 0, 0, 0, 0, 0, 0, 0, 0, 0, 0, 173378, 660, 60965, 156061, 179943, 150007, 204488, 214865, 163891, 154828, 153020, 208642, 182590, 210199, 154350, 213514, 169682, 156061, 179943, 150007, 204488, 214865, 163891, 154828, 153020, 208642, 182590, 210199, 154350, 213514, 169682, 156061, 179943, 150007, 204488, 214865, 163891, 154828, 153020, 208642, 182590, 210199, 154350, 213514, 169682, 210295, 154297, 148431, 156341, 145755, 1021, 1021, 1021, 1021, 1, 0, 0, 0, 0, 0, 0, 0, 0, 0, 0, 0, 0, 0, 0, 0, 0, 0, 0, 0, 0, 41519, 41519, 41519, 41519, 41519, 41519]\n"
     ]
    }
   ],
   "source": [
    "# Check for Null values\n",
    "\n",
    "print(list(X.isna().sum()))"
   ]
  },
  {
   "cell_type": "code",
   "execution_count": 11,
   "id": "bd39f3d6",
   "metadata": {
    "execution": {
     "iopub.execute_input": "2022-06-07T06:58:07.662819Z",
     "iopub.status.busy": "2022-06-07T06:58:07.662525Z",
     "iopub.status.idle": "2022-06-07T06:58:08.173032Z",
     "shell.execute_reply": "2022-06-07T06:58:08.172204Z"
    },
    "papermill": {
     "duration": 0.522273,
     "end_time": "2022-06-07T06:58:08.175286",
     "exception": false,
     "start_time": "2022-06-07T06:58:07.653013",
     "status": "completed"
    },
    "tags": []
   },
   "outputs": [],
   "source": [
    "X.dropna(axis=1, inplace=True)"
   ]
  },
  {
   "cell_type": "code",
   "execution_count": 12,
   "id": "96c229f4",
   "metadata": {
    "execution": {
     "iopub.execute_input": "2022-06-07T06:58:08.194291Z",
     "iopub.status.busy": "2022-06-07T06:58:08.193958Z",
     "iopub.status.idle": "2022-06-07T06:58:08.199968Z",
     "shell.execute_reply": "2022-06-07T06:58:08.199040Z"
    },
    "papermill": {
     "duration": 0.017448,
     "end_time": "2022-06-07T06:58:08.201691",
     "exception": false,
     "start_time": "2022-06-07T06:58:08.184243",
     "status": "completed"
    },
    "tags": []
   },
   "outputs": [
    {
     "data": {
      "text/plain": [
       "((307511, 54), (307511,))"
      ]
     },
     "execution_count": 12,
     "metadata": {},
     "output_type": "execute_result"
    }
   ],
   "source": [
    "X.shape, y.shape"
   ]
  },
  {
   "cell_type": "code",
   "execution_count": 13,
   "id": "847eba48",
   "metadata": {
    "execution": {
     "iopub.execute_input": "2022-06-07T06:58:08.221218Z",
     "iopub.status.busy": "2022-06-07T06:58:08.220841Z",
     "iopub.status.idle": "2022-06-07T06:58:09.104688Z",
     "shell.execute_reply": "2022-06-07T06:58:09.103902Z"
    },
    "papermill": {
     "duration": 0.896058,
     "end_time": "2022-06-07T06:58:09.106742",
     "exception": false,
     "start_time": "2022-06-07T06:58:08.210684",
     "status": "completed"
    },
    "tags": []
   },
   "outputs": [],
   "source": [
    "import seaborn as sns"
   ]
  },
  {
   "cell_type": "code",
   "execution_count": 14,
   "id": "b664e2a5",
   "metadata": {
    "execution": {
     "iopub.execute_input": "2022-06-07T06:58:09.127315Z",
     "iopub.status.busy": "2022-06-07T06:58:09.126969Z",
     "iopub.status.idle": "2022-06-07T06:58:10.567764Z",
     "shell.execute_reply": "2022-06-07T06:58:10.565503Z"
    },
    "papermill": {
     "duration": 1.45338,
     "end_time": "2022-06-07T06:58:10.570118",
     "exception": false,
     "start_time": "2022-06-07T06:58:09.116738",
     "status": "completed"
    },
    "tags": []
   },
   "outputs": [
    {
     "name": "stdout",
     "output_type": "stream",
     "text": [
      "SK_ID_CURR                     1\n",
      "CNT_CHILDREN                   1\n",
      "AMT_INCOME_TOTAL               1\n",
      "AMT_CREDIT                     1\n",
      "REGION_POPULATION_RELATIVE     1\n",
      "DAYS_BIRTH                     1\n",
      "DAYS_EMPLOYED                  2\n",
      "DAYS_REGISTRATION              1\n",
      "DAYS_ID_PUBLISH                1\n",
      "FLAG_MOBIL                     1\n",
      "FLAG_EMP_PHONE                 2\n",
      "FLAG_WORK_PHONE                1\n",
      "FLAG_CONT_MOBILE               1\n",
      "FLAG_PHONE                     1\n",
      "FLAG_EMAIL                     1\n",
      "REGION_RATING_CLIENT           2\n",
      "REGION_RATING_CLIENT_W_CITY    2\n",
      "HOUR_APPR_PROCESS_START        1\n",
      "REG_REGION_NOT_LIVE_REGION     1\n",
      "REG_REGION_NOT_WORK_REGION     2\n",
      "LIVE_REGION_NOT_WORK_REGION    2\n",
      "REG_CITY_NOT_LIVE_CITY         1\n",
      "REG_CITY_NOT_WORK_CITY         2\n",
      "LIVE_CITY_NOT_WORK_CITY        2\n",
      "FLAG_DOCUMENT_2                1\n",
      "FLAG_DOCUMENT_3                1\n",
      "FLAG_DOCUMENT_4                1\n",
      "FLAG_DOCUMENT_5                1\n",
      "FLAG_DOCUMENT_6                1\n",
      "FLAG_DOCUMENT_7                1\n",
      "FLAG_DOCUMENT_8                1\n",
      "FLAG_DOCUMENT_9                1\n",
      "FLAG_DOCUMENT_10               1\n",
      "FLAG_DOCUMENT_11               1\n",
      "FLAG_DOCUMENT_12               1\n",
      "FLAG_DOCUMENT_13               1\n",
      "FLAG_DOCUMENT_14               1\n",
      "FLAG_DOCUMENT_15               1\n",
      "FLAG_DOCUMENT_16               1\n",
      "FLAG_DOCUMENT_17               1\n",
      "FLAG_DOCUMENT_18               1\n",
      "FLAG_DOCUMENT_19               1\n",
      "FLAG_DOCUMENT_20               1\n",
      "FLAG_DOCUMENT_21               1\n"
     ]
    }
   ],
   "source": [
    "print(((X.corr().abs())>0.7).sum().to_string())"
   ]
  },
  {
   "cell_type": "code",
   "execution_count": 15,
   "id": "d337e737",
   "metadata": {
    "execution": {
     "iopub.execute_input": "2022-06-07T06:58:10.590276Z",
     "iopub.status.busy": "2022-06-07T06:58:10.589920Z",
     "iopub.status.idle": "2022-06-07T06:58:13.469818Z",
     "shell.execute_reply": "2022-06-07T06:58:13.468994Z"
    },
    "papermill": {
     "duration": 2.892018,
     "end_time": "2022-06-07T06:58:13.471842",
     "exception": false,
     "start_time": "2022-06-07T06:58:10.579824",
     "status": "completed"
    },
    "tags": []
   },
   "outputs": [
    {
     "data": {
      "text/plain": [
       "SK_ID_CURR                     0\n",
       "CNT_CHILDREN                   0\n",
       "AMT_INCOME_TOTAL               0\n",
       "AMT_CREDIT                     0\n",
       "REGION_POPULATION_RELATIVE     0\n",
       "DAYS_BIRTH                     0\n",
       "DAYS_EMPLOYED                  1\n",
       "DAYS_REGISTRATION              0\n",
       "DAYS_ID_PUBLISH                0\n",
       "FLAG_MOBIL                     0\n",
       "FLAG_EMP_PHONE                 1\n",
       "FLAG_WORK_PHONE                0\n",
       "FLAG_CONT_MOBILE               0\n",
       "FLAG_PHONE                     0\n",
       "FLAG_EMAIL                     0\n",
       "REGION_RATING_CLIENT           1\n",
       "REGION_RATING_CLIENT_W_CITY    1\n",
       "HOUR_APPR_PROCESS_START        0\n",
       "REG_REGION_NOT_LIVE_REGION     0\n",
       "REG_REGION_NOT_WORK_REGION     1\n",
       "LIVE_REGION_NOT_WORK_REGION    1\n",
       "REG_CITY_NOT_LIVE_CITY         0\n",
       "REG_CITY_NOT_WORK_CITY         1\n",
       "LIVE_CITY_NOT_WORK_CITY        1\n",
       "FLAG_DOCUMENT_2                0\n",
       "FLAG_DOCUMENT_3                0\n",
       "FLAG_DOCUMENT_4                0\n",
       "FLAG_DOCUMENT_5                0\n",
       "FLAG_DOCUMENT_6                0\n",
       "FLAG_DOCUMENT_7                0\n",
       "FLAG_DOCUMENT_8                0\n",
       "FLAG_DOCUMENT_9                0\n",
       "FLAG_DOCUMENT_10               0\n",
       "FLAG_DOCUMENT_11               0\n",
       "FLAG_DOCUMENT_12               0\n",
       "FLAG_DOCUMENT_13               0\n",
       "FLAG_DOCUMENT_14               0\n",
       "FLAG_DOCUMENT_15               0\n",
       "FLAG_DOCUMENT_16               0\n",
       "FLAG_DOCUMENT_17               0\n",
       "FLAG_DOCUMENT_18               0\n",
       "FLAG_DOCUMENT_19               0\n",
       "FLAG_DOCUMENT_20               0\n",
       "FLAG_DOCUMENT_21               0\n",
       "dtype: int64"
      ]
     },
     "execution_count": 15,
     "metadata": {},
     "output_type": "execute_result"
    }
   ],
   "source": [
    "df_corr1 = ((X.corr().abs()))>0.8\n",
    "df_corr2 = ((X.corr().abs()))<1\n",
    "\n",
    "(df_corr1&df_corr2).sum()"
   ]
  },
  {
   "cell_type": "code",
   "execution_count": 16,
   "id": "a67b9f39",
   "metadata": {
    "execution": {
     "iopub.execute_input": "2022-06-07T06:58:13.492309Z",
     "iopub.status.busy": "2022-06-07T06:58:13.491889Z",
     "iopub.status.idle": "2022-06-07T06:58:13.545900Z",
     "shell.execute_reply": "2022-06-07T06:58:13.545096Z"
    },
    "papermill": {
     "duration": 0.066507,
     "end_time": "2022-06-07T06:58:13.547917",
     "exception": false,
     "start_time": "2022-06-07T06:58:13.481410",
     "status": "completed"
    },
    "tags": []
   },
   "outputs": [],
   "source": [
    "# Drop highly correlated features\n",
    "X.drop(['FLAG_EMP_PHONE', 'REGION_RATING_CLIENT_W_CITY', 'LIVE_CITY_NOT_WORK_CITY', 'LIVE_REGION_NOT_WORK_REGION'], axis=1, inplace=True)"
   ]
  },
  {
   "cell_type": "code",
   "execution_count": 17,
   "id": "fe03992e",
   "metadata": {
    "execution": {
     "iopub.execute_input": "2022-06-07T06:58:13.567722Z",
     "iopub.status.busy": "2022-06-07T06:58:13.567412Z",
     "iopub.status.idle": "2022-06-07T06:58:13.572381Z",
     "shell.execute_reply": "2022-06-07T06:58:13.571686Z"
    },
    "papermill": {
     "duration": 0.016808,
     "end_time": "2022-06-07T06:58:13.574174",
     "exception": false,
     "start_time": "2022-06-07T06:58:13.557366",
     "status": "completed"
    },
    "tags": []
   },
   "outputs": [
    {
     "data": {
      "text/plain": [
       "(307511, 50)"
      ]
     },
     "execution_count": 17,
     "metadata": {},
     "output_type": "execute_result"
    }
   ],
   "source": [
    "X.shape"
   ]
  },
  {
   "cell_type": "markdown",
   "id": "fd3ae94a",
   "metadata": {
    "execution": {
     "iopub.execute_input": "2022-06-07T05:40:58.765538Z",
     "iopub.status.busy": "2022-06-07T05:40:58.764483Z",
     "iopub.status.idle": "2022-06-07T05:40:58.769891Z",
     "shell.execute_reply": "2022-06-07T05:40:58.768839Z",
     "shell.execute_reply.started": "2022-06-07T05:40:58.765489Z"
    },
    "papermill": {
     "duration": 0.009316,
     "end_time": "2022-06-07T06:58:13.592612",
     "exception": false,
     "start_time": "2022-06-07T06:58:13.583296",
     "status": "completed"
    },
    "tags": []
   },
   "source": [
    "### One - Hot Encoding"
   ]
  },
  {
   "cell_type": "code",
   "execution_count": 18,
   "id": "e910cc0f",
   "metadata": {
    "execution": {
     "iopub.execute_input": "2022-06-07T06:58:13.613175Z",
     "iopub.status.busy": "2022-06-07T06:58:13.612439Z",
     "iopub.status.idle": "2022-06-07T06:58:14.254818Z",
     "shell.execute_reply": "2022-06-07T06:58:14.253985Z"
    },
    "papermill": {
     "duration": 0.654684,
     "end_time": "2022-06-07T06:58:14.257033",
     "exception": false,
     "start_time": "2022-06-07T06:58:13.602349",
     "status": "completed"
    },
    "tags": []
   },
   "outputs": [],
   "source": [
    "X = pd.get_dummies(X)"
   ]
  },
  {
   "cell_type": "code",
   "execution_count": 19,
   "id": "e4faa9d9",
   "metadata": {
    "execution": {
     "iopub.execute_input": "2022-06-07T06:58:14.291209Z",
     "iopub.status.busy": "2022-06-07T06:58:14.290226Z",
     "iopub.status.idle": "2022-06-07T06:58:14.296413Z",
     "shell.execute_reply": "2022-06-07T06:58:14.295693Z"
    },
    "papermill": {
     "duration": 0.025746,
     "end_time": "2022-06-07T06:58:14.299010",
     "exception": false,
     "start_time": "2022-06-07T06:58:14.273264",
     "status": "completed"
    },
    "tags": []
   },
   "outputs": [
    {
     "data": {
      "text/plain": [
       "((307511, 139), (307511,))"
      ]
     },
     "execution_count": 19,
     "metadata": {},
     "output_type": "execute_result"
    }
   ],
   "source": [
    "X.shape, y.shape"
   ]
  },
  {
   "cell_type": "code",
   "execution_count": 20,
   "id": "e4bccfa6",
   "metadata": {
    "execution": {
     "iopub.execute_input": "2022-06-07T06:58:14.330316Z",
     "iopub.status.busy": "2022-06-07T06:58:14.330001Z",
     "iopub.status.idle": "2022-06-07T06:58:14.525877Z",
     "shell.execute_reply": "2022-06-07T06:58:14.525136Z"
    },
    "papermill": {
     "duration": 0.213426,
     "end_time": "2022-06-07T06:58:14.527741",
     "exception": false,
     "start_time": "2022-06-07T06:58:14.314315",
     "status": "completed"
    },
    "tags": []
   },
   "outputs": [
    {
     "data": {
      "text/plain": [
       "<BarContainer object of 2 artists>"
      ]
     },
     "execution_count": 20,
     "metadata": {},
     "output_type": "execute_result"
    },
    {
     "data": {
      "image/png": "[encoded data removed]",
      "text/plain": [
       "<Figure size 432x288 with 1 Axes>"
      ]
     },
     "metadata": {
      "needs_background": "light"
     },
     "output_type": "display_data"
    }
   ],
   "source": [
    "# Plot the target data\n",
    "\n",
    "import matplotlib.pyplot as plt\n",
    "\n",
    "plt.barh(target_counts.index, target_counts.values)"
   ]
  },
  {
   "cell_type": "markdown",
   "id": "387a8791",
   "metadata": {
    "papermill": {
     "duration": 0.009396,
     "end_time": "2022-06-07T06:58:14.546900",
     "exception": false,
     "start_time": "2022-06-07T06:58:14.537504",
     "status": "completed"
    },
    "tags": []
   },
   "source": [
    "# As the data is imbalanced, now we will balance the data"
   ]
  },
  {
   "cell_type": "code",
   "execution_count": 21,
   "id": "e568f338",
   "metadata": {
    "execution": {
     "iopub.execute_input": "2022-06-07T06:58:14.568741Z",
     "iopub.status.busy": "2022-06-07T06:58:14.567929Z",
     "iopub.status.idle": "2022-06-07T06:58:14.573656Z",
     "shell.execute_reply": "2022-06-07T06:58:14.572758Z"
    },
    "papermill": {
     "duration": 0.019746,
     "end_time": "2022-06-07T06:58:14.576359",
     "exception": false,
     "start_time": "2022-06-07T06:58:14.556613",
     "status": "completed"
    },
    "tags": []
   },
   "outputs": [
    {
     "data": {
      "text/plain": [
       "(307511, 139)"
      ]
     },
     "execution_count": 21,
     "metadata": {},
     "output_type": "execute_result"
    }
   ],
   "source": [
    "X.shape"
   ]
  },
  {
   "cell_type": "code",
   "execution_count": 22,
   "id": "79b065f3",
   "metadata": {
    "execution": {
     "iopub.execute_input": "2022-06-07T06:58:14.597345Z",
     "iopub.status.busy": "2022-06-07T06:58:14.597013Z",
     "iopub.status.idle": "2022-06-07T06:58:14.997246Z",
     "shell.execute_reply": "2022-06-07T06:58:14.996461Z"
    },
    "papermill": {
     "duration": 0.413465,
     "end_time": "2022-06-07T06:58:14.999576",
     "exception": false,
     "start_time": "2022-06-07T06:58:14.586111",
     "status": "completed"
    },
    "tags": []
   },
   "outputs": [],
   "source": [
    "from imblearn.over_sampling import SMOTE"
   ]
  },
  {
   "cell_type": "code",
   "execution_count": 23,
   "id": "26288d5f",
   "metadata": {
    "execution": {
     "iopub.execute_input": "2022-06-07T06:58:15.021261Z",
     "iopub.status.busy": "2022-06-07T06:58:15.020521Z",
     "iopub.status.idle": "2022-06-07T06:58:29.797069Z",
     "shell.execute_reply": "2022-06-07T06:58:29.796273Z"
    },
    "papermill": {
     "duration": 14.789997,
     "end_time": "2022-06-07T06:58:29.799567",
     "exception": false,
     "start_time": "2022-06-07T06:58:15.009570",
     "status": "completed"
    },
    "tags": []
   },
   "outputs": [],
   "source": [
    "oversample = SMOTE()\n",
    "\n",
    "X, y = oversample.fit_resample(X, y)"
   ]
  },
  {
   "cell_type": "code",
   "execution_count": 24,
   "id": "a5366cfa",
   "metadata": {
    "execution": {
     "iopub.execute_input": "2022-06-07T06:58:29.820599Z",
     "iopub.status.busy": "2022-06-07T06:58:29.820304Z",
     "iopub.status.idle": "2022-06-07T06:58:29.825531Z",
     "shell.execute_reply": "2022-06-07T06:58:29.824819Z"
    },
    "papermill": {
     "duration": 0.017916,
     "end_time": "2022-06-07T06:58:29.827779",
     "exception": false,
     "start_time": "2022-06-07T06:58:29.809863",
     "status": "completed"
    },
    "tags": []
   },
   "outputs": [
    {
     "data": {
      "text/plain": [
       "((565372, 139), (565372,))"
      ]
     },
     "execution_count": 24,
     "metadata": {},
     "output_type": "execute_result"
    }
   ],
   "source": [
    "X.shape, y.shape"
   ]
  },
  {
   "cell_type": "markdown",
   "id": "d8e151d8",
   "metadata": {
    "execution": {
     "iopub.execute_input": "2022-06-06T06:33:07.02553Z",
     "iopub.status.busy": "2022-06-06T06:33:07.025006Z",
     "iopub.status.idle": "2022-06-06T06:33:13.279967Z",
     "shell.execute_reply": "2022-06-06T06:33:13.278738Z",
     "shell.execute_reply.started": "2022-06-06T06:33:07.025476Z"
    },
    "papermill": {
     "duration": 0.009419,
     "end_time": "2022-06-07T06:58:29.846994",
     "exception": false,
     "start_time": "2022-06-07T06:58:29.837575",
     "status": "completed"
    },
    "tags": []
   },
   "source": [
    "# Make the model"
   ]
  },
  {
   "cell_type": "code",
   "execution_count": 25,
   "id": "d62796ce",
   "metadata": {
    "execution": {
     "iopub.execute_input": "2022-06-07T06:58:29.868165Z",
     "iopub.status.busy": "2022-06-07T06:58:29.867542Z",
     "iopub.status.idle": "2022-06-07T06:58:34.834786Z",
     "shell.execute_reply": "2022-06-07T06:58:34.833925Z"
    },
    "papermill": {
     "duration": 4.979776,
     "end_time": "2022-06-07T06:58:34.836888",
     "exception": false,
     "start_time": "2022-06-07T06:58:29.857112",
     "status": "completed"
    },
    "tags": []
   },
   "outputs": [],
   "source": [
    "import tensorflow as tf\n",
    "from tensorflow import keras\n",
    "from tensorflow.keras import layers"
   ]
  },
  {
   "cell_type": "code",
   "execution_count": 26,
   "id": "e8f5fad4",
   "metadata": {
    "execution": {
     "iopub.execute_input": "2022-06-07T06:58:34.859643Z",
     "iopub.status.busy": "2022-06-07T06:58:34.858554Z",
     "iopub.status.idle": "2022-06-07T06:58:35.610266Z",
     "shell.execute_reply": "2022-06-07T06:58:35.609364Z"
    },
    "papermill": {
     "duration": 0.765302,
     "end_time": "2022-06-07T06:58:35.612296",
     "exception": false,
     "start_time": "2022-06-07T06:58:34.846994",
     "status": "completed"
    },
    "tags": []
   },
   "outputs": [],
   "source": [
    "# train_test split\n",
    "\n",
    "from sklearn.model_selection import train_test_split\n",
    "\n",
    "Xtrain, Xtest, ytrain, ytest = train_test_split(X, y, test_size=0.3, random_state=21)"
   ]
  },
  {
   "cell_type": "code",
   "execution_count": 27,
   "id": "5080e840",
   "metadata": {
    "execution": {
     "iopub.execute_input": "2022-06-07T06:58:35.634785Z",
     "iopub.status.busy": "2022-06-07T06:58:35.633937Z",
     "iopub.status.idle": "2022-06-07T06:58:35.640276Z",
     "shell.execute_reply": "2022-06-07T06:58:35.639478Z"
    },
    "papermill": {
     "duration": 0.018743,
     "end_time": "2022-06-07T06:58:35.641929",
     "exception": false,
     "start_time": "2022-06-07T06:58:35.623186",
     "status": "completed"
    },
    "tags": []
   },
   "outputs": [
    {
     "data": {
      "text/plain": [
       "((395760, 139), (169612, 139), (395760,), (169612,))"
      ]
     },
     "execution_count": 27,
     "metadata": {},
     "output_type": "execute_result"
    }
   ],
   "source": [
    "Xtrain.shape, Xtest.shape, ytrain.shape, ytest.shape"
   ]
  },
  {
   "cell_type": "code",
   "execution_count": 28,
   "id": "ad45089b",
   "metadata": {
    "execution": {
     "iopub.execute_input": "2022-06-07T06:58:35.663225Z",
     "iopub.status.busy": "2022-06-07T06:58:35.662905Z",
     "iopub.status.idle": "2022-06-07T06:58:38.470220Z",
     "shell.execute_reply": "2022-06-07T06:58:38.468524Z"
    },
    "papermill": {
     "duration": 2.82015,
     "end_time": "2022-06-07T06:58:38.471913",
     "exception": false,
     "start_time": "2022-06-07T06:58:35.651763",
     "status": "completed"
    },
    "tags": []
   },
   "outputs": [
    {
     "name": "stderr",
     "output_type": "stream",
     "text": [
      "2022-06-07 06:58:35.747560: I tensorflow/stream_executor/cuda/cuda_gpu_executor.cc:937] successful NUMA node read from SysFS had negative value (-1), but there must be at least one NUMA node, so returning NUMA node zero\n",
      "2022-06-07 06:58:35.846004: I tensorflow/stream_executor/cuda/cuda_gpu_executor.cc:937] successful NUMA node read from SysFS had negative value (-1), but there must be at least one NUMA node, so returning NUMA node zero\n",
      "2022-06-07 06:58:35.846956: I tensorflow/stream_executor/cuda/cuda_gpu_executor.cc:937] successful NUMA node read from SysFS had negative value (-1), but there must be at least one NUMA node, so returning NUMA node zero\n",
      "2022-06-07 06:58:35.848328: I tensorflow/core/platform/cpu_feature_guard.cc:142] This TensorFlow binary is optimized with oneAPI Deep Neural Network Library (oneDNN) to use the following CPU instructions in performance-critical operations:  AVX2 AVX512F FMA\n",
      "To enable them in other operations, rebuild TensorFlow with the appropriate compiler flags.\n",
      "2022-06-07 06:58:35.852281: I tensorflow/stream_executor/cuda/cuda_gpu_executor.cc:937] successful NUMA node read from SysFS had negative value (-1), but there must be at least one NUMA node, so returning NUMA node zero\n",
      "2022-06-07 06:58:35.853283: I tensorflow/stream_executor/cuda/cuda_gpu_executor.cc:937] successful NUMA node read from SysFS had negative value (-1), but there must be at least one NUMA node, so returning NUMA node zero\n",
      "2022-06-07 06:58:35.854243: I tensorflow/stream_executor/cuda/cuda_gpu_executor.cc:937] successful NUMA node read from SysFS had negative value (-1), but there must be at least one NUMA node, so returning NUMA node zero\n",
      "2022-06-07 06:58:38.073949: I tensorflow/stream_executor/cuda/cuda_gpu_executor.cc:937] successful NUMA node read from SysFS had negative value (-1), but there must be at least one NUMA node, so returning NUMA node zero\n",
      "2022-06-07 06:58:38.074867: I tensorflow/stream_executor/cuda/cuda_gpu_executor.cc:937] successful NUMA node read from SysFS had negative value (-1), but there must be at least one NUMA node, so returning NUMA node zero\n",
      "2022-06-07 06:58:38.075701: I tensorflow/stream_executor/cuda/cuda_gpu_executor.cc:937] successful NUMA node read from SysFS had negative value (-1), but there must be at least one NUMA node, so returning NUMA node zero\n",
      "2022-06-07 06:58:38.076420: I tensorflow/core/common_runtime/gpu/gpu_device.cc:1510] Created device /job:localhost/replica:0/task:0/device:GPU:0 with 15403 MB memory:  -> device: 0, name: Tesla P100-PCIE-16GB, pci bus id: 0000:00:04.0, compute capability: 6.0\n"
     ]
    }
   ],
   "source": [
    "model = keras.Sequential()\n",
    "\n",
    "model.add(layers.Dense(12, input_dim=Xtrain.shape[1], activation='relu'))\n",
    "model.add(layers.Dense(8, activation='relu'))\n",
    "model.add(layers.Dense(6, activation='tanh'))\n",
    "model.add(layers.Dense(1, activation='sigmoid'))\n",
    "\n",
    "model.compile(optimizer='sgd', loss='binary_crossentropy', metrics='accuracy')"
   ]
  },
  {
   "cell_type": "code",
   "execution_count": 29,
   "id": "b9a931fa",
   "metadata": {
    "execution": {
     "iopub.execute_input": "2022-06-07T06:58:38.493452Z",
     "iopub.status.busy": "2022-06-07T06:58:38.492812Z",
     "iopub.status.idle": "2022-06-07T06:58:38.499797Z",
     "shell.execute_reply": "2022-06-07T06:58:38.498866Z"
    },
    "papermill": {
     "duration": 0.019648,
     "end_time": "2022-06-07T06:58:38.501832",
     "exception": false,
     "start_time": "2022-06-07T06:58:38.482184",
     "status": "completed"
    },
    "tags": []
   },
   "outputs": [
    {
     "name": "stdout",
     "output_type": "stream",
     "text": [
      "Model: \"sequential\"\n",
      "_________________________________________________________________\n",
      "Layer (type)                 Output Shape              Param #   \n",
      "=================================================================\n",
      "dense (Dense)                (None, 12)                1680      \n",
      "_________________________________________________________________\n",
      "dense_1 (Dense)              (None, 8)                 104       \n",
      "_________________________________________________________________\n",
      "dense_2 (Dense)              (None, 6)                 54        \n",
      "_________________________________________________________________\n",
      "dense_3 (Dense)              (None, 1)                 7         \n",
      "=================================================================\n",
      "Total params: 1,845\n",
      "Trainable params: 1,845\n",
      "Non-trainable params: 0\n",
      "_________________________________________________________________\n"
     ]
    }
   ],
   "source": [
    "model.summary()"
   ]
  },
  {
   "cell_type": "code",
   "execution_count": 30,
   "id": "b8a0bc35",
   "metadata": {
    "execution": {
     "iopub.execute_input": "2022-06-07T06:58:38.524235Z",
     "iopub.status.busy": "2022-06-07T06:58:38.522905Z",
     "iopub.status.idle": "2022-06-07T07:05:33.002991Z",
     "shell.execute_reply": "2022-06-07T07:05:33.001510Z"
    },
    "papermill": {
     "duration": 414.493169,
     "end_time": "2022-06-07T07:05:33.005528",
     "exception": false,
     "start_time": "2022-06-07T06:58:38.512359",
     "status": "completed"
    },
    "tags": []
   },
   "outputs": [
    {
     "name": "stderr",
     "output_type": "stream",
     "text": [
      "2022-06-07 06:58:39.496487: I tensorflow/compiler/mlir/mlir_graph_optimization_pass.cc:185] None of the MLIR Optimization Passes are enabled (registered 2)\n"
     ]
    },
    {
     "name": "stdout",
     "output_type": "stream",
     "text": [
      "Epoch 1/200\n",
      "634/634 [==============================] - 4s 4ms/step - loss: 0.7048 - accuracy: 0.4987 - val_loss: 0.6931 - val_accuracy: 0.5019\n",
      "Epoch 2/200\n",
      "634/634 [==============================] - 2s 3ms/step - loss: 0.6932 - accuracy: 0.5003 - val_loss: 0.6932 - val_accuracy: 0.4981\n",
      "Epoch 3/200\n",
      "634/634 [==============================] - 2s 3ms/step - loss: 0.6932 - accuracy: 0.4998 - val_loss: 0.6932 - val_accuracy: 0.4981\n",
      "Epoch 4/200\n",
      "634/634 [==============================] - 2s 3ms/step - loss: 0.6932 - accuracy: 0.5000 - val_loss: 0.6932 - val_accuracy: 0.4981\n",
      "Epoch 5/200\n",
      "634/634 [==============================] - 2s 4ms/step - loss: 0.6932 - accuracy: 0.4998 - val_loss: 0.6932 - val_accuracy: 0.4981\n",
      "Epoch 6/200\n",
      "634/634 [==============================] - 2s 3ms/step - loss: 0.6932 - accuracy: 0.5010 - val_loss: 0.6932 - val_accuracy: 0.4981\n",
      "Epoch 7/200\n",
      "634/634 [==============================] - 2s 3ms/step - loss: 0.6932 - accuracy: 0.4996 - val_loss: 0.6932 - val_accuracy: 0.4981\n",
      "Epoch 8/200\n",
      "634/634 [==============================] - 2s 3ms/step - loss: 0.6932 - accuracy: 0.4999 - val_loss: 0.6932 - val_accuracy: 0.5019\n",
      "Epoch 9/200\n",
      "634/634 [==============================] - 2s 4ms/step - loss: 0.6932 - accuracy: 0.4998 - val_loss: 0.6932 - val_accuracy: 0.4981\n",
      "Epoch 10/200\n",
      "634/634 [==============================] - 2s 3ms/step - loss: 0.6932 - accuracy: 0.5003 - val_loss: 0.6932 - val_accuracy: 0.4981\n",
      "Epoch 11/200\n",
      "634/634 [==============================] - 2s 3ms/step - loss: 0.6932 - accuracy: 0.4995 - val_loss: 0.6932 - val_accuracy: 0.4981\n",
      "Epoch 12/200\n",
      "634/634 [==============================] - 2s 3ms/step - loss: 0.6932 - accuracy: 0.5013 - val_loss: 0.6932 - val_accuracy: 0.4981\n",
      "Epoch 13/200\n",
      "634/634 [==============================] - 2s 3ms/step - loss: 0.6932 - accuracy: 0.4992 - val_loss: 0.6933 - val_accuracy: 0.4981\n",
      "Epoch 14/200\n",
      "634/634 [==============================] - 2s 4ms/step - loss: 0.6932 - accuracy: 0.5007 - val_loss: 0.6931 - val_accuracy: 0.5019\n",
      "Epoch 15/200\n",
      "634/634 [==============================] - 2s 3ms/step - loss: 0.6932 - accuracy: 0.4995 - val_loss: 0.6932 - val_accuracy: 0.4981\n",
      "Epoch 16/200\n",
      "634/634 [==============================] - 2s 3ms/step - loss: 0.6932 - accuracy: 0.4989 - val_loss: 0.6932 - val_accuracy: 0.4981\n",
      "Epoch 17/200\n",
      "634/634 [==============================] - 2s 3ms/step - loss: 0.6932 - accuracy: 0.5010 - val_loss: 0.6932 - val_accuracy: 0.4981\n",
      "Epoch 18/200\n",
      "634/634 [==============================] - 2s 3ms/step - loss: 0.6932 - accuracy: 0.5002 - val_loss: 0.6932 - val_accuracy: 0.4981\n",
      "Epoch 19/200\n",
      "634/634 [==============================] - 2s 4ms/step - loss: 0.6932 - accuracy: 0.5001 - val_loss: 0.6931 - val_accuracy: 0.5019\n",
      "Epoch 20/200\n",
      "634/634 [==============================] - 2s 3ms/step - loss: 0.6932 - accuracy: 0.4995 - val_loss: 0.6932 - val_accuracy: 0.4981\n",
      "Epoch 21/200\n",
      "634/634 [==============================] - 3s 4ms/step - loss: 0.6932 - accuracy: 0.4995 - val_loss: 0.6932 - val_accuracy: 0.4981\n",
      "Epoch 22/200\n",
      "634/634 [==============================] - 2s 3ms/step - loss: 0.6932 - accuracy: 0.4996 - val_loss: 0.6933 - val_accuracy: 0.4981\n",
      "Epoch 23/200\n",
      "634/634 [==============================] - 2s 3ms/step - loss: 0.6932 - accuracy: 0.5017 - val_loss: 0.6932 - val_accuracy: 0.4981\n",
      "Epoch 24/200\n",
      "634/634 [==============================] - 2s 3ms/step - loss: 0.6932 - accuracy: 0.4989 - val_loss: 0.6932 - val_accuracy: 0.4981\n",
      "Epoch 25/200\n",
      "634/634 [==============================] - 2s 3ms/step - loss: 0.6932 - accuracy: 0.4996 - val_loss: 0.6931 - val_accuracy: 0.5019\n",
      "Epoch 26/200\n",
      "634/634 [==============================] - 2s 3ms/step - loss: 0.6932 - accuracy: 0.5000 - val_loss: 0.6932 - val_accuracy: 0.4981\n",
      "Epoch 27/200\n",
      "634/634 [==============================] - 2s 3ms/step - loss: 0.6931 - accuracy: 0.5014 - val_loss: 0.6931 - val_accuracy: 0.5019\n",
      "Epoch 28/200\n",
      "634/634 [==============================] - 2s 3ms/step - loss: 0.6932 - accuracy: 0.4987 - val_loss: 0.6932 - val_accuracy: 0.4981\n",
      "Epoch 29/200\n",
      "634/634 [==============================] - 2s 3ms/step - loss: 0.6932 - accuracy: 0.5014 - val_loss: 0.6932 - val_accuracy: 0.5019\n",
      "Epoch 30/200\n",
      "634/634 [==============================] - 2s 3ms/step - loss: 0.6932 - accuracy: 0.5000 - val_loss: 0.6932 - val_accuracy: 0.4981\n",
      "Epoch 31/200\n",
      "634/634 [==============================] - 2s 3ms/step - loss: 0.6932 - accuracy: 0.4998 - val_loss: 0.6932 - val_accuracy: 0.4981\n",
      "Epoch 32/200\n",
      "634/634 [==============================] - 2s 3ms/step - loss: 0.6932 - accuracy: 0.4992 - val_loss: 0.6931 - val_accuracy: 0.5019\n",
      "Epoch 33/200\n",
      "634/634 [==============================] - 2s 3ms/step - loss: 0.6932 - accuracy: 0.4992 - val_loss: 0.6931 - val_accuracy: 0.5019\n",
      "Epoch 34/200\n",
      "634/634 [==============================] - 2s 3ms/step - loss: 0.6932 - accuracy: 0.5003 - val_loss: 0.6932 - val_accuracy: 0.4981\n",
      "Epoch 35/200\n",
      "634/634 [==============================] - 2s 3ms/step - loss: 0.6932 - accuracy: 0.4989 - val_loss: 0.6932 - val_accuracy: 0.5019\n",
      "Epoch 36/200\n",
      "634/634 [==============================] - 2s 3ms/step - loss: 0.6932 - accuracy: 0.4988 - val_loss: 0.6932 - val_accuracy: 0.5019\n",
      "Epoch 37/200\n",
      "634/634 [==============================] - 2s 4ms/step - loss: 0.6932 - accuracy: 0.4989 - val_loss: 0.6931 - val_accuracy: 0.5019\n",
      "Epoch 38/200\n",
      "634/634 [==============================] - 2s 3ms/step - loss: 0.6931 - accuracy: 0.5015 - val_loss: 0.6932 - val_accuracy: 0.4981\n",
      "Epoch 39/200\n",
      "634/634 [==============================] - 2s 3ms/step - loss: 0.6932 - accuracy: 0.5007 - val_loss: 0.6931 - val_accuracy: 0.5019\n",
      "Epoch 40/200\n",
      "634/634 [==============================] - 2s 3ms/step - loss: 0.6932 - accuracy: 0.4993 - val_loss: 0.6932 - val_accuracy: 0.4981\n",
      "Epoch 41/200\n",
      "634/634 [==============================] - 2s 3ms/step - loss: 0.6932 - accuracy: 0.4997 - val_loss: 0.6932 - val_accuracy: 0.4981\n",
      "Epoch 42/200\n",
      "634/634 [==============================] - 2s 3ms/step - loss: 0.6932 - accuracy: 0.5000 - val_loss: 0.6932 - val_accuracy: 0.4981\n",
      "Epoch 43/200\n",
      "634/634 [==============================] - 2s 3ms/step - loss: 0.6932 - accuracy: 0.4990 - val_loss: 0.6932 - val_accuracy: 0.4981\n",
      "Epoch 44/200\n",
      "634/634 [==============================] - 2s 3ms/step - loss: 0.6932 - accuracy: 0.4992 - val_loss: 0.6932 - val_accuracy: 0.4981\n",
      "Epoch 45/200\n",
      "634/634 [==============================] - 2s 3ms/step - loss: 0.6932 - accuracy: 0.5005 - val_loss: 0.6931 - val_accuracy: 0.5019\n",
      "Epoch 46/200\n",
      "634/634 [==============================] - 2s 3ms/step - loss: 0.6932 - accuracy: 0.5001 - val_loss: 0.6932 - val_accuracy: 0.4981\n",
      "Epoch 47/200\n",
      "634/634 [==============================] - 2s 3ms/step - loss: 0.6932 - accuracy: 0.5004 - val_loss: 0.6932 - val_accuracy: 0.5019\n",
      "Epoch 48/200\n",
      "634/634 [==============================] - 2s 3ms/step - loss: 0.6932 - accuracy: 0.4993 - val_loss: 0.6931 - val_accuracy: 0.5019\n",
      "Epoch 49/200\n",
      "634/634 [==============================] - 2s 3ms/step - loss: 0.6932 - accuracy: 0.5002 - val_loss: 0.6932 - val_accuracy: 0.4981\n",
      "Epoch 50/200\n",
      "634/634 [==============================] - 2s 3ms/step - loss: 0.6932 - accuracy: 0.4995 - val_loss: 0.6931 - val_accuracy: 0.5019\n",
      "Epoch 51/200\n",
      "634/634 [==============================] - 2s 3ms/step - loss: 0.6932 - accuracy: 0.4992 - val_loss: 0.6932 - val_accuracy: 0.4981\n",
      "Epoch 52/200\n",
      "634/634 [==============================] - 2s 4ms/step - loss: 0.6932 - accuracy: 0.4986 - val_loss: 0.6931 - val_accuracy: 0.5019\n",
      "Epoch 53/200\n",
      "634/634 [==============================] - 2s 4ms/step - loss: 0.6932 - accuracy: 0.4993 - val_loss: 0.6932 - val_accuracy: 0.4981\n",
      "Epoch 54/200\n",
      "634/634 [==============================] - 2s 3ms/step - loss: 0.6932 - accuracy: 0.5011 - val_loss: 0.6932 - val_accuracy: 0.4981\n",
      "Epoch 55/200\n",
      "634/634 [==============================] - 2s 3ms/step - loss: 0.6932 - accuracy: 0.5012 - val_loss: 0.6931 - val_accuracy: 0.5019\n",
      "Epoch 56/200\n",
      "634/634 [==============================] - 2s 3ms/step - loss: 0.6932 - accuracy: 0.5006 - val_loss: 0.6931 - val_accuracy: 0.5019\n",
      "Epoch 57/200\n",
      "634/634 [==============================] - 2s 4ms/step - loss: 0.6932 - accuracy: 0.4998 - val_loss: 0.6932 - val_accuracy: 0.5019\n",
      "Epoch 58/200\n",
      "634/634 [==============================] - 2s 3ms/step - loss: 0.6932 - accuracy: 0.5017 - val_loss: 0.6932 - val_accuracy: 0.4981\n",
      "Epoch 59/200\n",
      "634/634 [==============================] - 2s 3ms/step - loss: 0.6932 - accuracy: 0.5000 - val_loss: 0.6932 - val_accuracy: 0.5019\n",
      "Epoch 60/200\n",
      "634/634 [==============================] - 2s 3ms/step - loss: 0.6932 - accuracy: 0.5012 - val_loss: 0.6932 - val_accuracy: 0.5019\n",
      "Epoch 61/200\n",
      "634/634 [==============================] - 2s 3ms/step - loss: 0.6932 - accuracy: 0.4992 - val_loss: 0.6931 - val_accuracy: 0.5019\n",
      "Epoch 62/200\n",
      "634/634 [==============================] - 2s 3ms/step - loss: 0.6932 - accuracy: 0.4996 - val_loss: 0.6932 - val_accuracy: 0.5019\n",
      "Epoch 63/200\n",
      "634/634 [==============================] - 2s 3ms/step - loss: 0.6932 - accuracy: 0.5007 - val_loss: 0.6932 - val_accuracy: 0.4981\n",
      "Epoch 64/200\n",
      "634/634 [==============================] - 2s 3ms/step - loss: 0.6932 - accuracy: 0.4996 - val_loss: 0.6932 - val_accuracy: 0.4981\n",
      "Epoch 65/200\n",
      "634/634 [==============================] - 2s 3ms/step - loss: 0.6932 - accuracy: 0.5005 - val_loss: 0.6931 - val_accuracy: 0.5019\n",
      "Epoch 66/200\n",
      "634/634 [==============================] - 2s 3ms/step - loss: 0.6932 - accuracy: 0.4993 - val_loss: 0.6932 - val_accuracy: 0.5019\n",
      "Epoch 67/200\n",
      "634/634 [==============================] - 2s 3ms/step - loss: 0.6932 - accuracy: 0.5010 - val_loss: 0.6931 - val_accuracy: 0.5019\n",
      "Epoch 68/200\n",
      "634/634 [==============================] - 2s 4ms/step - loss: 0.6932 - accuracy: 0.4993 - val_loss: 0.6932 - val_accuracy: 0.4981\n",
      "Epoch 69/200\n",
      "634/634 [==============================] - 3s 4ms/step - loss: 0.6932 - accuracy: 0.5007 - val_loss: 0.6932 - val_accuracy: 0.4981\n",
      "Epoch 70/200\n",
      "634/634 [==============================] - 2s 3ms/step - loss: 0.6932 - accuracy: 0.5002 - val_loss: 0.6932 - val_accuracy: 0.4981\n",
      "Epoch 71/200\n",
      "634/634 [==============================] - 2s 3ms/step - loss: 0.6932 - accuracy: 0.4987 - val_loss: 0.6932 - val_accuracy: 0.4981\n",
      "Epoch 72/200\n",
      "634/634 [==============================] - 2s 3ms/step - loss: 0.6932 - accuracy: 0.4989 - val_loss: 0.6932 - val_accuracy: 0.4981\n",
      "Epoch 73/200\n",
      "634/634 [==============================] - 2s 4ms/step - loss: 0.6932 - accuracy: 0.5005 - val_loss: 0.6932 - val_accuracy: 0.4981\n",
      "Epoch 74/200\n",
      "634/634 [==============================] - 2s 3ms/step - loss: 0.6932 - accuracy: 0.4993 - val_loss: 0.6932 - val_accuracy: 0.4981\n",
      "Epoch 75/200\n",
      "634/634 [==============================] - 2s 3ms/step - loss: 0.6932 - accuracy: 0.5004 - val_loss: 0.6931 - val_accuracy: 0.5019\n",
      "Epoch 76/200\n",
      "634/634 [==============================] - 2s 3ms/step - loss: 0.6932 - accuracy: 0.4983 - val_loss: 0.6932 - val_accuracy: 0.4981\n",
      "Epoch 77/200\n",
      "634/634 [==============================] - 2s 3ms/step - loss: 0.6932 - accuracy: 0.4988 - val_loss: 0.6932 - val_accuracy: 0.4981\n",
      "Epoch 78/200\n",
      "634/634 [==============================] - 2s 4ms/step - loss: 0.6932 - accuracy: 0.4986 - val_loss: 0.6932 - val_accuracy: 0.4981\n",
      "Epoch 79/200\n",
      "634/634 [==============================] - 2s 3ms/step - loss: 0.6932 - accuracy: 0.4999 - val_loss: 0.6931 - val_accuracy: 0.5019\n",
      "Epoch 80/200\n",
      "634/634 [==============================] - 2s 3ms/step - loss: 0.6932 - accuracy: 0.4998 - val_loss: 0.6931 - val_accuracy: 0.5019\n",
      "Epoch 81/200\n",
      "634/634 [==============================] - 2s 3ms/step - loss: 0.6932 - accuracy: 0.5009 - val_loss: 0.6932 - val_accuracy: 0.4981\n",
      "Epoch 82/200\n",
      "634/634 [==============================] - 2s 3ms/step - loss: 0.6932 - accuracy: 0.5012 - val_loss: 0.6932 - val_accuracy: 0.5019\n",
      "Epoch 83/200\n",
      "634/634 [==============================] - 2s 3ms/step - loss: 0.6932 - accuracy: 0.5010 - val_loss: 0.6932 - val_accuracy: 0.4981\n",
      "Epoch 84/200\n",
      "634/634 [==============================] - 2s 3ms/step - loss: 0.6932 - accuracy: 0.5001 - val_loss: 0.6932 - val_accuracy: 0.4981\n",
      "Epoch 85/200\n",
      "634/634 [==============================] - 2s 4ms/step - loss: 0.6932 - accuracy: 0.4999 - val_loss: 0.6932 - val_accuracy: 0.4981\n",
      "Epoch 86/200\n",
      "634/634 [==============================] - 2s 3ms/step - loss: 0.6932 - accuracy: 0.4996 - val_loss: 0.6932 - val_accuracy: 0.4981\n",
      "Epoch 87/200\n",
      "634/634 [==============================] - 2s 3ms/step - loss: 0.6932 - accuracy: 0.4993 - val_loss: 0.6932 - val_accuracy: 0.4981\n",
      "Epoch 88/200\n",
      "634/634 [==============================] - 2s 3ms/step - loss: 0.6932 - accuracy: 0.4996 - val_loss: 0.6932 - val_accuracy: 0.4981\n",
      "Epoch 89/200\n",
      "634/634 [==============================] - 2s 4ms/step - loss: 0.6932 - accuracy: 0.4994 - val_loss: 0.6932 - val_accuracy: 0.4981\n",
      "Epoch 90/200\n",
      "634/634 [==============================] - 2s 3ms/step - loss: 0.6932 - accuracy: 0.4991 - val_loss: 0.6932 - val_accuracy: 0.4981\n",
      "Epoch 91/200\n",
      "634/634 [==============================] - 2s 3ms/step - loss: 0.6932 - accuracy: 0.5006 - val_loss: 0.6932 - val_accuracy: 0.4981\n",
      "Epoch 92/200\n",
      "634/634 [==============================] - 2s 3ms/step - loss: 0.6932 - accuracy: 0.5008 - val_loss: 0.6932 - val_accuracy: 0.4981\n",
      "Epoch 93/200\n",
      "634/634 [==============================] - 2s 3ms/step - loss: 0.6932 - accuracy: 0.5004 - val_loss: 0.6932 - val_accuracy: 0.4981\n",
      "Epoch 94/200\n",
      "634/634 [==============================] - 2s 3ms/step - loss: 0.6932 - accuracy: 0.5011 - val_loss: 0.6932 - val_accuracy: 0.5019\n",
      "Epoch 95/200\n",
      "634/634 [==============================] - 2s 3ms/step - loss: 0.6932 - accuracy: 0.5012 - val_loss: 0.6931 - val_accuracy: 0.5019\n",
      "Epoch 96/200\n",
      "634/634 [==============================] - 2s 3ms/step - loss: 0.6932 - accuracy: 0.4998 - val_loss: 0.6932 - val_accuracy: 0.4981\n",
      "Epoch 97/200\n",
      "634/634 [==============================] - 2s 3ms/step - loss: 0.6932 - accuracy: 0.4997 - val_loss: 0.6932 - val_accuracy: 0.4981\n",
      "Epoch 98/200\n",
      "634/634 [==============================] - 2s 3ms/step - loss: 0.6932 - accuracy: 0.5011 - val_loss: 0.6932 - val_accuracy: 0.4981\n",
      "Epoch 99/200\n",
      "634/634 [==============================] - 2s 3ms/step - loss: 0.6932 - accuracy: 0.5005 - val_loss: 0.6932 - val_accuracy: 0.4981\n",
      "Epoch 100/200\n",
      "634/634 [==============================] - 2s 3ms/step - loss: 0.6932 - accuracy: 0.5007 - val_loss: 0.6932 - val_accuracy: 0.4981\n",
      "Epoch 101/200\n",
      "634/634 [==============================] - 2s 4ms/step - loss: 0.6932 - accuracy: 0.4991 - val_loss: 0.6932 - val_accuracy: 0.5019\n",
      "Epoch 102/200\n",
      "634/634 [==============================] - 2s 4ms/step - loss: 0.6932 - accuracy: 0.5006 - val_loss: 0.6932 - val_accuracy: 0.4981\n",
      "Epoch 103/200\n",
      "634/634 [==============================] - 2s 3ms/step - loss: 0.6932 - accuracy: 0.4998 - val_loss: 0.6932 - val_accuracy: 0.4981\n",
      "Epoch 104/200\n",
      "634/634 [==============================] - 2s 3ms/step - loss: 0.6932 - accuracy: 0.4996 - val_loss: 0.6931 - val_accuracy: 0.5019\n",
      "Epoch 105/200\n",
      "634/634 [==============================] - 2s 3ms/step - loss: 0.6932 - accuracy: 0.4999 - val_loss: 0.6931 - val_accuracy: 0.5019\n",
      "Epoch 106/200\n",
      "634/634 [==============================] - 2s 3ms/step - loss: 0.6932 - accuracy: 0.5000 - val_loss: 0.6932 - val_accuracy: 0.4981\n",
      "Epoch 107/200\n",
      "634/634 [==============================] - 2s 3ms/step - loss: 0.6932 - accuracy: 0.4992 - val_loss: 0.6932 - val_accuracy: 0.4981\n",
      "Epoch 108/200\n",
      "634/634 [==============================] - 2s 3ms/step - loss: 0.6932 - accuracy: 0.4991 - val_loss: 0.6932 - val_accuracy: 0.4981\n",
      "Epoch 109/200\n",
      "634/634 [==============================] - 2s 3ms/step - loss: 0.6932 - accuracy: 0.4999 - val_loss: 0.6932 - val_accuracy: 0.5019\n",
      "Epoch 110/200\n",
      "634/634 [==============================] - 2s 3ms/step - loss: 0.6932 - accuracy: 0.4989 - val_loss: 0.6931 - val_accuracy: 0.5019\n",
      "Epoch 111/200\n",
      "634/634 [==============================] - 2s 3ms/step - loss: 0.6932 - accuracy: 0.5000 - val_loss: 0.6932 - val_accuracy: 0.4981\n",
      "Epoch 112/200\n",
      "634/634 [==============================] - 2s 3ms/step - loss: 0.6932 - accuracy: 0.5000 - val_loss: 0.6932 - val_accuracy: 0.4981\n",
      "Epoch 113/200\n",
      "634/634 [==============================] - 2s 3ms/step - loss: 0.6932 - accuracy: 0.5002 - val_loss: 0.6931 - val_accuracy: 0.5019\n",
      "Epoch 114/200\n",
      "634/634 [==============================] - 2s 3ms/step - loss: 0.6932 - accuracy: 0.4997 - val_loss: 0.6931 - val_accuracy: 0.5019\n",
      "Epoch 115/200\n",
      "634/634 [==============================] - 2s 3ms/step - loss: 0.6932 - accuracy: 0.5000 - val_loss: 0.6931 - val_accuracy: 0.5019\n",
      "Epoch 116/200\n",
      "634/634 [==============================] - 2s 4ms/step - loss: 0.6932 - accuracy: 0.4992 - val_loss: 0.6931 - val_accuracy: 0.5019\n",
      "Epoch 117/200\n",
      "634/634 [==============================] - 3s 4ms/step - loss: 0.6932 - accuracy: 0.5006 - val_loss: 0.6932 - val_accuracy: 0.4981\n",
      "Epoch 118/200\n",
      "634/634 [==============================] - 2s 3ms/step - loss: 0.6932 - accuracy: 0.4999 - val_loss: 0.6932 - val_accuracy: 0.4981\n",
      "Epoch 119/200\n",
      "634/634 [==============================] - 2s 3ms/step - loss: 0.6932 - accuracy: 0.5001 - val_loss: 0.6931 - val_accuracy: 0.5019\n",
      "Epoch 120/200\n",
      "634/634 [==============================] - 2s 3ms/step - loss: 0.6932 - accuracy: 0.4992 - val_loss: 0.6932 - val_accuracy: 0.4981\n",
      "Epoch 121/200\n",
      "634/634 [==============================] - 2s 4ms/step - loss: 0.6932 - accuracy: 0.4979 - val_loss: 0.6932 - val_accuracy: 0.4981\n",
      "Epoch 122/200\n",
      "634/634 [==============================] - 2s 3ms/step - loss: 0.6932 - accuracy: 0.5002 - val_loss: 0.6932 - val_accuracy: 0.4981\n",
      "Epoch 123/200\n",
      "634/634 [==============================] - 2s 3ms/step - loss: 0.6932 - accuracy: 0.5006 - val_loss: 0.6931 - val_accuracy: 0.5019\n",
      "Epoch 124/200\n",
      "634/634 [==============================] - 2s 3ms/step - loss: 0.6932 - accuracy: 0.5000 - val_loss: 0.6931 - val_accuracy: 0.5019\n",
      "Epoch 125/200\n",
      "634/634 [==============================] - 2s 3ms/step - loss: 0.6932 - accuracy: 0.5003 - val_loss: 0.6932 - val_accuracy: 0.4981\n",
      "Epoch 126/200\n",
      "634/634 [==============================] - 2s 3ms/step - loss: 0.6932 - accuracy: 0.5001 - val_loss: 0.6932 - val_accuracy: 0.4981\n",
      "Epoch 127/200\n",
      "634/634 [==============================] - 2s 3ms/step - loss: 0.6932 - accuracy: 0.4988 - val_loss: 0.6932 - val_accuracy: 0.5019\n",
      "Epoch 128/200\n",
      "634/634 [==============================] - 2s 3ms/step - loss: 0.6932 - accuracy: 0.4994 - val_loss: 0.6931 - val_accuracy: 0.5019\n",
      "Epoch 129/200\n",
      "634/634 [==============================] - 2s 3ms/step - loss: 0.6932 - accuracy: 0.5009 - val_loss: 0.6931 - val_accuracy: 0.5019\n",
      "Epoch 130/200\n",
      "634/634 [==============================] - 2s 3ms/step - loss: 0.6932 - accuracy: 0.4996 - val_loss: 0.6931 - val_accuracy: 0.5019\n",
      "Epoch 131/200\n",
      "634/634 [==============================] - 2s 3ms/step - loss: 0.6932 - accuracy: 0.4993 - val_loss: 0.6932 - val_accuracy: 0.4981\n",
      "Epoch 132/200\n",
      "634/634 [==============================] - 2s 4ms/step - loss: 0.6932 - accuracy: 0.4989 - val_loss: 0.6932 - val_accuracy: 0.4981\n",
      "Epoch 133/200\n",
      "634/634 [==============================] - 2s 4ms/step - loss: 0.6932 - accuracy: 0.4993 - val_loss: 0.6932 - val_accuracy: 0.5019\n",
      "Epoch 134/200\n",
      "634/634 [==============================] - 2s 3ms/step - loss: 0.6932 - accuracy: 0.5004 - val_loss: 0.6932 - val_accuracy: 0.4981\n",
      "Epoch 135/200\n",
      "634/634 [==============================] - 2s 3ms/step - loss: 0.6932 - accuracy: 0.4996 - val_loss: 0.6932 - val_accuracy: 0.4981\n",
      "Epoch 136/200\n",
      "634/634 [==============================] - 2s 3ms/step - loss: 0.6932 - accuracy: 0.4996 - val_loss: 0.6931 - val_accuracy: 0.5019\n",
      "Epoch 137/200\n",
      "634/634 [==============================] - 2s 3ms/step - loss: 0.6932 - accuracy: 0.5000 - val_loss: 0.6932 - val_accuracy: 0.5019\n",
      "Epoch 138/200\n",
      "634/634 [==============================] - 2s 3ms/step - loss: 0.6932 - accuracy: 0.5004 - val_loss: 0.6932 - val_accuracy: 0.4981\n",
      "Epoch 139/200\n",
      "634/634 [==============================] - 2s 3ms/step - loss: 0.6931 - accuracy: 0.5020 - val_loss: 0.6932 - val_accuracy: 0.4981\n",
      "Epoch 140/200\n",
      "634/634 [==============================] - 2s 3ms/step - loss: 0.6932 - accuracy: 0.4994 - val_loss: 0.6931 - val_accuracy: 0.5019\n",
      "Epoch 141/200\n",
      "634/634 [==============================] - 2s 3ms/step - loss: 0.6932 - accuracy: 0.5013 - val_loss: 0.6931 - val_accuracy: 0.5019\n",
      "Epoch 142/200\n",
      "634/634 [==============================] - 2s 3ms/step - loss: 0.6931 - accuracy: 0.5004 - val_loss: 0.6932 - val_accuracy: 0.4981\n",
      "Epoch 143/200\n",
      "634/634 [==============================] - 2s 4ms/step - loss: 0.6932 - accuracy: 0.5004 - val_loss: 0.6932 - val_accuracy: 0.4981\n",
      "Epoch 144/200\n",
      "634/634 [==============================] - 2s 3ms/step - loss: 0.6932 - accuracy: 0.4992 - val_loss: 0.6932 - val_accuracy: 0.4981\n",
      "Epoch 145/200\n",
      "634/634 [==============================] - 2s 3ms/step - loss: 0.6932 - accuracy: 0.4996 - val_loss: 0.6932 - val_accuracy: 0.4981\n",
      "Epoch 146/200\n",
      "634/634 [==============================] - 2s 3ms/step - loss: 0.6932 - accuracy: 0.5010 - val_loss: 0.6933 - val_accuracy: 0.4981\n",
      "Epoch 147/200\n",
      "634/634 [==============================] - 2s 3ms/step - loss: 0.6932 - accuracy: 0.5002 - val_loss: 0.6932 - val_accuracy: 0.4981\n",
      "Epoch 148/200\n",
      "634/634 [==============================] - 2s 4ms/step - loss: 0.6932 - accuracy: 0.4992 - val_loss: 0.6932 - val_accuracy: 0.4981\n",
      "Epoch 149/200\n",
      "634/634 [==============================] - 2s 4ms/step - loss: 0.6932 - accuracy: 0.4997 - val_loss: 0.6932 - val_accuracy: 0.4981\n",
      "Epoch 150/200\n",
      "634/634 [==============================] - 2s 3ms/step - loss: 0.6932 - accuracy: 0.5006 - val_loss: 0.6932 - val_accuracy: 0.4981\n",
      "Epoch 151/200\n",
      "634/634 [==============================] - 2s 3ms/step - loss: 0.6932 - accuracy: 0.4999 - val_loss: 0.6932 - val_accuracy: 0.4981\n",
      "Epoch 152/200\n",
      "634/634 [==============================] - 2s 3ms/step - loss: 0.6932 - accuracy: 0.5005 - val_loss: 0.6933 - val_accuracy: 0.4981\n",
      "Epoch 153/200\n",
      "634/634 [==============================] - 2s 3ms/step - loss: 0.6932 - accuracy: 0.5002 - val_loss: 0.6932 - val_accuracy: 0.4981\n",
      "Epoch 154/200\n",
      "634/634 [==============================] - 2s 3ms/step - loss: 0.6932 - accuracy: 0.4994 - val_loss: 0.6932 - val_accuracy: 0.4981\n",
      "Epoch 155/200\n",
      "634/634 [==============================] - 2s 3ms/step - loss: 0.6932 - accuracy: 0.4997 - val_loss: 0.6931 - val_accuracy: 0.5019\n",
      "Epoch 156/200\n",
      "634/634 [==============================] - 2s 3ms/step - loss: 0.6932 - accuracy: 0.4991 - val_loss: 0.6931 - val_accuracy: 0.5019\n",
      "Epoch 157/200\n",
      "634/634 [==============================] - 2s 3ms/step - loss: 0.6932 - accuracy: 0.5004 - val_loss: 0.6931 - val_accuracy: 0.5019\n",
      "Epoch 158/200\n",
      "634/634 [==============================] - 2s 3ms/step - loss: 0.6932 - accuracy: 0.4999 - val_loss: 0.6932 - val_accuracy: 0.5019\n",
      "Epoch 159/200\n",
      "634/634 [==============================] - 2s 3ms/step - loss: 0.6932 - accuracy: 0.5003 - val_loss: 0.6931 - val_accuracy: 0.5019\n",
      "Epoch 160/200\n",
      "634/634 [==============================] - 2s 3ms/step - loss: 0.6932 - accuracy: 0.5003 - val_loss: 0.6932 - val_accuracy: 0.4981\n",
      "Epoch 161/200\n",
      "634/634 [==============================] - 2s 3ms/step - loss: 0.6932 - accuracy: 0.5006 - val_loss: 0.6932 - val_accuracy: 0.4981\n",
      "Epoch 162/200\n",
      "634/634 [==============================] - 2s 4ms/step - loss: 0.6932 - accuracy: 0.5009 - val_loss: 0.6932 - val_accuracy: 0.4981\n",
      "Epoch 163/200\n",
      "634/634 [==============================] - 2s 3ms/step - loss: 0.6932 - accuracy: 0.4998 - val_loss: 0.6932 - val_accuracy: 0.4981\n",
      "Epoch 164/200\n",
      "634/634 [==============================] - 2s 4ms/step - loss: 0.6932 - accuracy: 0.5001 - val_loss: 0.6932 - val_accuracy: 0.4981\n",
      "Epoch 165/200\n",
      "634/634 [==============================] - 3s 4ms/step - loss: 0.6932 - accuracy: 0.4999 - val_loss: 0.6931 - val_accuracy: 0.5019\n",
      "Epoch 166/200\n",
      "634/634 [==============================] - 2s 3ms/step - loss: 0.6932 - accuracy: 0.5005 - val_loss: 0.6932 - val_accuracy: 0.4981\n",
      "Epoch 167/200\n",
      "634/634 [==============================] - 2s 3ms/step - loss: 0.6932 - accuracy: 0.5018 - val_loss: 0.6932 - val_accuracy: 0.4981\n",
      "Epoch 168/200\n",
      "634/634 [==============================] - 2s 3ms/step - loss: 0.6932 - accuracy: 0.5002 - val_loss: 0.6932 - val_accuracy: 0.4981\n",
      "Epoch 169/200\n",
      "634/634 [==============================] - 2s 3ms/step - loss: 0.6932 - accuracy: 0.4995 - val_loss: 0.6932 - val_accuracy: 0.4981\n",
      "Epoch 170/200\n",
      "634/634 [==============================] - 2s 3ms/step - loss: 0.6932 - accuracy: 0.4998 - val_loss: 0.6931 - val_accuracy: 0.5019\n",
      "Epoch 171/200\n",
      "634/634 [==============================] - 2s 3ms/step - loss: 0.6932 - accuracy: 0.5000 - val_loss: 0.6932 - val_accuracy: 0.4981\n",
      "Epoch 172/200\n",
      "634/634 [==============================] - 2s 3ms/step - loss: 0.6932 - accuracy: 0.5012 - val_loss: 0.6931 - val_accuracy: 0.5019\n",
      "Epoch 173/200\n",
      "634/634 [==============================] - 2s 3ms/step - loss: 0.6932 - accuracy: 0.5010 - val_loss: 0.6931 - val_accuracy: 0.5019\n",
      "Epoch 174/200\n",
      "634/634 [==============================] - 2s 3ms/step - loss: 0.6932 - accuracy: 0.5009 - val_loss: 0.6932 - val_accuracy: 0.4981\n",
      "Epoch 175/200\n",
      "634/634 [==============================] - 2s 3ms/step - loss: 0.6932 - accuracy: 0.4994 - val_loss: 0.6932 - val_accuracy: 0.4981\n",
      "Epoch 176/200\n",
      "634/634 [==============================] - 2s 3ms/step - loss: 0.6932 - accuracy: 0.4997 - val_loss: 0.6932 - val_accuracy: 0.4981\n",
      "Epoch 177/200\n",
      "634/634 [==============================] - 2s 4ms/step - loss: 0.6932 - accuracy: 0.5009 - val_loss: 0.6931 - val_accuracy: 0.5019\n",
      "Epoch 178/200\n",
      "634/634 [==============================] - 2s 3ms/step - loss: 0.6932 - accuracy: 0.5008 - val_loss: 0.6932 - val_accuracy: 0.4981\n",
      "Epoch 179/200\n",
      "634/634 [==============================] - 2s 3ms/step - loss: 0.6932 - accuracy: 0.4999 - val_loss: 0.6932 - val_accuracy: 0.4981\n",
      "Epoch 180/200\n",
      "634/634 [==============================] - 2s 4ms/step - loss: 0.6932 - accuracy: 0.5011 - val_loss: 0.6932 - val_accuracy: 0.4981\n",
      "Epoch 181/200\n",
      "634/634 [==============================] - 2s 4ms/step - loss: 0.6932 - accuracy: 0.5003 - val_loss: 0.6932 - val_accuracy: 0.4981\n",
      "Epoch 182/200\n",
      "634/634 [==============================] - 2s 3ms/step - loss: 0.6932 - accuracy: 0.4998 - val_loss: 0.6931 - val_accuracy: 0.5019\n",
      "Epoch 183/200\n",
      "634/634 [==============================] - 2s 3ms/step - loss: 0.6932 - accuracy: 0.4989 - val_loss: 0.6932 - val_accuracy: 0.4981\n",
      "Epoch 184/200\n",
      "634/634 [==============================] - 2s 3ms/step - loss: 0.6932 - accuracy: 0.4996 - val_loss: 0.6931 - val_accuracy: 0.5019\n",
      "Epoch 185/200\n",
      "634/634 [==============================] - 2s 4ms/step - loss: 0.6932 - accuracy: 0.5009 - val_loss: 0.6932 - val_accuracy: 0.4981\n",
      "Epoch 186/200\n",
      "634/634 [==============================] - 2s 3ms/step - loss: 0.6932 - accuracy: 0.5010 - val_loss: 0.6931 - val_accuracy: 0.5019\n",
      "Epoch 187/200\n",
      "634/634 [==============================] - 2s 3ms/step - loss: 0.6932 - accuracy: 0.5003 - val_loss: 0.6931 - val_accuracy: 0.5019\n",
      "Epoch 188/200\n",
      "634/634 [==============================] - 2s 3ms/step - loss: 0.6932 - accuracy: 0.5006 - val_loss: 0.6932 - val_accuracy: 0.4981\n",
      "Epoch 189/200\n",
      "634/634 [==============================] - 2s 3ms/step - loss: 0.6932 - accuracy: 0.4993 - val_loss: 0.6932 - val_accuracy: 0.4981\n",
      "Epoch 190/200\n",
      "634/634 [==============================] - 2s 3ms/step - loss: 0.6932 - accuracy: 0.4983 - val_loss: 0.6932 - val_accuracy: 0.4981\n",
      "Epoch 191/200\n",
      "634/634 [==============================] - 2s 3ms/step - loss: 0.6932 - accuracy: 0.5010 - val_loss: 0.6931 - val_accuracy: 0.5019\n",
      "Epoch 192/200\n",
      "634/634 [==============================] - 2s 3ms/step - loss: 0.6932 - accuracy: 0.5002 - val_loss: 0.6932 - val_accuracy: 0.4981\n",
      "Epoch 193/200\n",
      "634/634 [==============================] - 2s 3ms/step - loss: 0.6932 - accuracy: 0.4993 - val_loss: 0.6932 - val_accuracy: 0.4981\n",
      "Epoch 194/200\n",
      "634/634 [==============================] - 2s 3ms/step - loss: 0.6932 - accuracy: 0.4999 - val_loss: 0.6932 - val_accuracy: 0.4981\n",
      "Epoch 195/200\n",
      "634/634 [==============================] - 2s 3ms/step - loss: 0.6932 - accuracy: 0.4995 - val_loss: 0.6932 - val_accuracy: 0.4981\n",
      "Epoch 196/200\n",
      "634/634 [==============================] - 3s 5ms/step - loss: 0.6932 - accuracy: 0.5003 - val_loss: 0.6932 - val_accuracy: 0.4981\n",
      "Epoch 197/200\n",
      "634/634 [==============================] - 2s 3ms/step - loss: 0.6932 - accuracy: 0.5011 - val_loss: 0.6932 - val_accuracy: 0.4981\n",
      "Epoch 198/200\n",
      "634/634 [==============================] - 2s 3ms/step - loss: 0.6932 - accuracy: 0.4997 - val_loss: 0.6932 - val_accuracy: 0.4981\n",
      "Epoch 199/200\n",
      "634/634 [==============================] - 2s 3ms/step - loss: 0.6932 - accuracy: 0.4996 - val_loss: 0.6931 - val_accuracy: 0.5019\n",
      "Epoch 200/200\n",
      "634/634 [==============================] - 2s 3ms/step - loss: 0.6932 - accuracy: 0.5000 - val_loss: 0.6932 - val_accuracy: 0.4981\n"
     ]
    }
   ],
   "source": [
    "history = model.fit(Xtrain, ytrain, batch_size=500, epochs=200, validation_split=0.2, verbose=1)"
   ]
  },
  {
   "cell_type": "code",
   "execution_count": null,
   "id": "12b9995a",
   "metadata": {
    "papermill": {
     "duration": 0.610508,
     "end_time": "2022-06-07T07:05:34.058967",
     "exception": false,
     "start_time": "2022-06-07T07:05:33.448459",
     "status": "completed"
    },
    "tags": []
   },
   "outputs": [],
   "source": []
  }
 ],
 "metadata": {
  "kernelspec": {
   "display_name": "Python 3",
   "language": "python",
   "name": "python3"
  },
  "language_info": {
   "codemirror_mode": {
    "name": "ipython",
    "version": 3
   },
   "file_extension": ".py",
   "mimetype": "text/x-python",
   "name": "python",
   "nbconvert_exporter": "python",
   "pygments_lexer": "ipython3",
   "version": "3.7.12"
  },
  "papermill": {
   "default_parameters": {},
   "duration": 464.467469,
   "end_time": "2022-06-07T07:05:37.640844",
   "environment_variables": {},
   "exception": null,
   "input_path": "__notebook__.ipynb",
   "output_path": "__notebook__.ipynb",
   "parameters": {},
   "start_time": "2022-06-07T06:57:53.173375",
   "version": "2.3.4"
  }
 },
 "nbformat": 4,
 "nbformat_minor": 5
}
